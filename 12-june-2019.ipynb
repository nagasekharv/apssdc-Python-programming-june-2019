{
 "cells": [
  {
   "cell_type": "markdown",
   "metadata": {},
   "source": [
    "# Problem Solving and Programming\n",
    "\n",
    "#### Date 12 june 2019\n",
    "\n",
    "#### Day Objectives\n",
    "* String Slicing\n",
    "* Functions in Python\n",
    "* Basic problems related to conditional statements using functions\n",
    "* Iteration in python\n",
    "* Python Data Structures -Lists,Tuples and Dictionaries\n",
    "* Basic Operations on data structures\n",
    "  * Applying Data Structures to solve problems"
   ]
  },
  {
   "cell_type": "code",
   "execution_count": null,
   "metadata": {},
   "outputs": [],
   "source": []
  },
  {
   "cell_type": "markdown",
   "metadata": {},
   "source": [
    "# String Slicing"
   ]
  },
  {
   "cell_type": "code",
   "execution_count": 40,
   "metadata": {},
   "outputs": [
    {
     "data": {
      "text/plain": [
       "'python'"
      ]
     },
     "execution_count": 40,
     "metadata": {},
     "output_type": "execute_result"
    }
   ],
   "source": [
    "n = 'nagasekhar'\n",
    "\n",
    "n[-1]\n",
    "\n",
    "n[len(n)-1]\n",
    "\n",
    "n[0] # Accessing the first character in a string\n",
    "n[1] # Accessing the second character in a string\n",
    "n[len(n)-1] # Accessing the last character in a string\n",
    "n[-1] # Another way of accessing the last character\n",
    "n[-2] # Accessing the penultimate character of a string\n",
    "\n",
    "n[0:2] # including index position 0 and excluding index position 2 in n\n",
    "\n",
    "n[-2:] # Accessing last two characters in a string\n",
    "\n",
    "n[:-2]\n",
    "n[-7:-3] # start from index -7  and print upto -2\n",
    "n[1:-1] # removing first and last character\n",
    "\n",
    "# Accessing the middle character in a string\n",
    "n[len(n)//2]\n",
    "\n",
    "n[-1::-1] # Reverse of a string\n",
    "\n",
    "# Accessing last two characters in reverse order\n",
    "n[-1:-3:-1]\n",
    "\n",
    "# Reverse the middle two characters in an even kength string\n",
    "n[len(n)//2:len(n)//2-2:-1]\n",
    "\n",
    "# Accessing alternate characters of a string in reverse order\n",
    "# 'python' -> \"nhy\"\n",
    "n='python'\n",
    "n[::-2]  \n",
    "# n[::-1]\n",
    "# Accessing alternate characters in a string\n",
    "n[::2]  # 2 indicates skips every 2nd index is skipped\n",
    "n[::1]\n"
   ]
  },
  {
   "cell_type": "code",
   "execution_count": null,
   "metadata": {},
   "outputs": [],
   "source": []
  },
  {
   "cell_type": "markdown",
   "metadata": {},
   "source": [
    "### Functions\n"
   ]
  },
  {
   "cell_type": "code",
   "execution_count": 44,
   "metadata": {},
   "outputs": [
    {
     "data": {
      "text/plain": [
       "'rahkes'"
      ]
     },
     "execution_count": 44,
     "metadata": {},
     "output_type": "execute_result"
    }
   ],
   "source": [
    "# Function for reversing a string\n",
    "def reverseString(s):\n",
    "    return s[::-1]\n",
    "\n",
    "reverseString('sekhar')"
   ]
  },
  {
   "cell_type": "code",
   "execution_count": 51,
   "metadata": {},
   "outputs": [
    {
     "data": {
      "text/plain": [
       "True"
      ]
     },
     "execution_count": 51,
     "metadata": {},
     "output_type": "execute_result"
    }
   ],
   "source": [
    "# Function to check if a string is a palindrome\n",
    "def palindrome(s):\n",
    "    if s==s[::-1]:\n",
    "        return True\n",
    "    else:\n",
    "        return False\n",
    "    \n",
    "#palindrome(\"madam\")    \n",
    "# palindrome(\" \") returns true\n",
    "# palindrome(\"123321\") returns true"
   ]
  },
  {
   "cell_type": "code",
   "execution_count": 56,
   "metadata": {},
   "outputs": [
    {
     "data": {
      "text/plain": [
       "True"
      ]
     },
     "execution_count": 56,
     "metadata": {},
     "output_type": "execute_result"
    }
   ],
   "source": [
    "# Function to check if a given year is a leap year\n",
    "def isLeapYear(year):\n",
    "    if (year%400==0 or (year%100!=0 and year%4==0)):\n",
    "        return True\n",
    "    return False\n",
    "\n",
    "isLeapYear(2020)\n"
   ]
  },
  {
   "cell_type": "code",
   "execution_count": 65,
   "metadata": {},
   "outputs": [
    {
     "name": "stdout",
     "output_type": "stream",
     "text": [
      "Enter a digit12355345\n"
     ]
    },
    {
     "data": {
      "text/plain": [
       "8"
      ]
     },
     "execution_count": 65,
     "metadata": {},
     "output_type": "execute_result"
    }
   ],
   "source": [
    "# Function to count the number of digits in a given number\n",
    "def numOfDigits(num):\n",
    "    n=input(\"Enter a digit\")\n",
    "    return len(str(n))\n",
    "\n",
    "\n",
    "numOfDigits(1234)\n",
    "  "
   ]
  },
  {
   "cell_type": "code",
   "execution_count": null,
   "metadata": {},
   "outputs": [],
   "source": [
    "# Greatest of four numbers\n"
   ]
  },
  {
   "cell_type": "markdown",
   "metadata": {},
   "source": [
    "### Iteration\n",
    "- for\n",
    "- while"
   ]
  },
  {
   "cell_type": "code",
   "execution_count": 63,
   "metadata": {},
   "outputs": [
    {
     "name": "stdout",
     "output_type": "stream",
     "text": [
      "1 2 3 4 5 6 7 8 9 10 11 12 "
     ]
    }
   ],
   "source": [
    "# Function to print n natural numbers\n",
    "\n",
    "def printNNaturalNumbers(n):\n",
    "    for counter in range(1,n+1):\n",
    "        print(counter,end=\" \")\n",
    "    return\n",
    "printNNaturalNumbers(12) # because of n+1 value 12 is included in the output\n",
    "        "
   ]
  },
  {
   "cell_type": "code",
   "execution_count": 21,
   "metadata": {},
   "outputs": [
    {
     "name": "stdout",
     "output_type": "stream",
     "text": [
      "500 504 508 512 516 520 524 "
     ]
    }
   ],
   "source": [
    "# Function to print the alternate values in a range\n",
    "# [500,550] -> [] represents both values are inclusive ->500 502 504.........550\n",
    "# (500,550) -> () represents both values are excluded  ->501,503,505.........549\n",
    "# range(500,550) -> All set based functions in python have start value is inclusive and end value is exclusive ->500 501 502......549\n",
    "\n",
    "def alternateValues(lb,ub):\n",
    "    for i in range(lb,ub+1,4): # Here 2 represents 2nd number\n",
    "        print(i,end=\" \")\n",
    "    return    \n",
    "\n",
    "alternateValues(500,525)"
   ]
  },
  {
   "cell_type": "code",
   "execution_count": 40,
   "metadata": {},
   "outputs": [
    {
     "name": "stdout",
     "output_type": "stream",
     "text": [
      "10 9 8 7 6 5 4 3 2 1 "
     ]
    }
   ],
   "source": [
    "# Function to print reverse of given range in the same line\n",
    "def reverseNumber(lb,ub):\n",
    "        for i in range(ub,lb-1,-1):\n",
    "            print(i,end=\" \")\n",
    "        return\n",
    "reverseNumber(1,10)            "
   ]
  },
  {
   "cell_type": "code",
   "execution_count": 39,
   "metadata": {},
   "outputs": [
    {
     "name": "stdout",
     "output_type": "stream",
     "text": [
      "9 7 5 3 1 "
     ]
    }
   ],
   "source": [
    "# Function to print the odd number in reverse order in a given range\n",
    "def oddReverse(lb,ub):\n",
    "    for i in range(ub,lb-1,-1):\n",
    "        if(i%2==0):\n",
    "            print(end=\"\")\n",
    "        else:\n",
    "            print(i,end=\" \")\n",
    "\n",
    "oddReverse(1,10)            "
   ]
  },
  {
   "cell_type": "code",
   "execution_count": 41,
   "metadata": {},
   "outputs": [
    {
     "data": {
      "text/plain": [
       "15150"
      ]
     },
     "execution_count": 41,
     "metadata": {},
     "output_type": "execute_result"
    }
   ],
   "source": [
    "def sumrange(st,en):\n",
    "    sum=0\n",
    "    for i in range(st,en+1):\n",
    "        sum=sum+i\n",
    "    return sum    \n",
    "\n",
    "sumrange(100,200)"
   ]
  },
  {
   "cell_type": "code",
   "execution_count": 74,
   "metadata": {},
   "outputs": [
    {
     "data": {
      "text/plain": [
       "3000.0"
      ]
     },
     "execution_count": 74,
     "metadata": {},
     "output_type": "execute_result"
    }
   ],
   "source": [
    "# Function to caluculate the average of a given range\n",
    "# (1,5) -> 3\n",
    "def average(start,end):\n",
    "    sum = 0\n",
    "    count = end-start+1\n",
    "    for i in range(start,end+1):\n",
    "        sum = sum+i\n",
    "    return sum/count    \n",
    "average(1000,5000)"
   ]
  },
  {
   "cell_type": "code",
   "execution_count": 87,
   "metadata": {},
   "outputs": [
    {
     "name": "stdout",
     "output_type": "stream",
     "text": [
      "\n",
      "\n",
      "\n"
     ]
    }
   ],
   "source": [
    "# Finction to generate the leap years in given time period\n",
    "# 2000-2020 -> 2000 2004,2008 20012,2016,2020\n",
    "def isleapYear(year):\n",
    "    if(year%400==0) or (year%100!=0 and year%4==0):\n",
    "        return True\n",
    "    return False\n",
    "    \n",
    "def generateLeapYears(startYear,endYear):\n",
    "    for year in range(startYear,endYear+1):\n",
    "        if(isleapYear(year)):\n",
    "            print(year,end=\" \")\n",
    "        else:\n",
    "            print(\"\")\n",
    "    return\n",
    "\n",
    "\n",
    "generateLeapYears(2001,2003)\n"
   ]
  },
  {
   "cell_type": "code",
   "execution_count": 142,
   "metadata": {},
   "outputs": [
    {
     "data": {
      "text/plain": [
       "730"
      ]
     },
     "execution_count": 142,
     "metadata": {},
     "output_type": "execute_result"
    }
   ],
   "source": [
    "# Calculate the number of days in givenn time period using leap year logic\n",
    "# For every year in the given time period,if the year is leap add 366 day to sum, -> if year is not leap year add 365 days to sum\n",
    "def numberOfDaysInAYear(startyear,endyear):\n",
    "    sum = 0\n",
    "    for year in range(startyear,endyear+1):\n",
    "        if isleapYear(year):\n",
    "            sum = sum + 366\n",
    "        else:\n",
    "            sum = sum + 365\n",
    "    return sum  \n",
    "\n",
    "def daysInYear(year):\n",
    "    days = 0\n",
    "    if isleapYear(year):\n",
    "        days=366\n",
    "    else:\n",
    "        days=365\n",
    "    return days\n",
    "\n",
    "\n",
    "# number of days in middle years of \n",
    "numberOfDaysInAYear(2017,2018)\n"
   ]
  },
  {
   "cell_type": "code",
   "execution_count": 145,
   "metadata": {},
   "outputs": [
    {
     "data": {
      "text/plain": [
       "210432"
      ]
     },
     "execution_count": 145,
     "metadata": {},
     "output_type": "execute_result"
    }
   ],
   "source": [
    "# Calculate number of hours for a given period\n",
    "# (startmonth,startyear,endmonth,endyear) -> (11,1975,3,1999)\n",
    "# numberOfHours(5,2019,6,2019) -> 1464   both dates are inclusive\n",
    "# No of hours = 24 * No of days\n",
    "#[all days from feb 2016 to dec 2016,\n",
    "#    all days for years between 2016+1 and 2019-1,\n",
    "#        all days from jan to june 2019]\n",
    "# 3 steps\n",
    "    # 1.start month year to end of the year - calculate no of days\n",
    "    # 2.Calculate days for all years between start year and end year exclusive\n",
    "        # 2017,2018 - 365 * no of years\n",
    "    # 3.calculate days from jan to end month year\n",
    "# Excluding february\n",
    "# First six months - 1,3,4,6,7\n",
    "                        # All odd months have 31 days\n",
    "                        # All even months have 30 days\n",
    "# Last six months - 8,9,10,11,12\n",
    "                        # All even months have 31 days\n",
    "                        # All odd months have 30 days\n",
    "# 31 days - (month <=7 and month %2!=0 and month!=2) || (month>=8 and month%2==0 and month!=2) \n",
    "  #                  return 31\n",
    "   #         else\n",
    "    #                return 30\n",
    "def numberOfDaysMonth(month,year):\n",
    "    if month == 2:\n",
    "        if isleapYear(year):\n",
    "            return 29\n",
    "        return 28\n",
    "    elif (month <=7 and month %2!=0) or (month >=8 and month%2==0): \n",
    "        return 31\n",
    "    else:\n",
    "        return 30\n",
    "\n",
    "\n",
    "def dayInStartYear(startmonth,startyear):\n",
    "    days = 0\n",
    "    for month in range(startmonth,13):\n",
    "        days += numberOfDaysMonth(month,startyear)\n",
    "    return days\n",
    "dayInStartYear(12,2020)\n",
    "\n",
    "def daysInEndYear(endmonth,endyear):\n",
    "    days = 0\n",
    "    for month in range(1,endmonth+1):\n",
    "        days += numberOfDaysMonth(month,endyear)\n",
    "    return days\n",
    "\n",
    "def numberOfHours(startmonth,startyear,endmonth,endyear):\n",
    "    days = 0\n",
    "    days += dayInStartYear(startmonth,startyear)\n",
    "    days += dayInStartYear(endmonth,endyear)\n",
    "    if endyear - startyear ==2: # 2019 - 2017\n",
    "        days += numberOfDaysInAYear(startyear+1,startyear+1)\n",
    "    elif endyear - startyear > 2:\n",
    "        days += numberOfDaysInAYear(startyear+1,endyear-1)\n",
    "    return 24 * days\n",
    "    \n",
    "\n",
    "    \n",
    "\n",
    "    \n",
    "    \n",
    "    \n",
    "    \n",
    "numberOfHours(11,1975,3,1999)    \n",
    "    \n"
   ]
  },
  {
   "cell_type": "code",
   "execution_count": 144,
   "metadata": {},
   "outputs": [
    {
     "name": "stdout",
     "output_type": "stream",
     "text": [
      "1 2 3 4 5 6 7 8 9 "
     ]
    }
   ],
   "source": [
    "# Function to print n natural numbers using while loop\n",
    "def nNaturalNumbers(n):\n",
    "    counter = 1\n",
    "    while counter <= n:\n",
    "        print(counter,end=\" \")\n",
    "        counter = counter + 1\n",
    "    return\n",
    "nNaturalNumbers(9)"
   ]
  },
  {
   "cell_type": "code",
   "execution_count": 109,
   "metadata": {},
   "outputs": [
    {
     "name": "stdout",
     "output_type": "stream",
     "text": [
      "6\n"
     ]
    }
   ],
   "source": [
    "# Function to print all numbers divisible by 6 and not a factor of 100 in a given range(lb,ub) inclusive\n",
    "\n",
    "def divisibleTest(lb,ub):\n",
    "    counter = lb\n",
    "    for counter in range(lb,ub):\n",
    "        if counter%6==0 and 100%counter!=0:\n",
    "            print(counter)\n",
    "    counter+1\n",
    "    \n",
    "divisibleTest(1,10)    \n",
    "    "
   ]
  },
  {
   "cell_type": "code",
   "execution_count": 51,
   "metadata": {},
   "outputs": [
    {
     "data": {
      "text/plain": [
       "8"
      ]
     },
     "execution_count": 51,
     "metadata": {},
     "output_type": "execute_result"
    }
   ],
   "source": [
    "# Function to find the average of cubes of all even numbers in a given range(lb,ub) inclusive\n",
    "\n",
    "def averageOfCubes(lb,ub):\n",
    "    i=0\n",
    "    avg=sum=counter=0\n",
    "    for i in range(lb,ub+1):\n",
    "        if i%2==0:\n",
    "            sum = sum + i*i*i \n",
    "            counter = counter + 1\n",
    "    return sum//counter\n",
    "        \n",
    "averageOfCubes(1,3)        "
   ]
  },
  {
   "cell_type": "code",
   "execution_count": 143,
   "metadata": {},
   "outputs": [
    {
     "data": {
      "text/plain": [
       "12"
      ]
     },
     "execution_count": 143,
     "metadata": {},
     "output_type": "execute_result"
    }
   ],
   "source": [
    "# Function to generate the list of factors for a given number\n",
    "# 12 -> 1,2,3,4,6,12\n",
    "\n",
    "def listOfFactors(n):\n",
    "    sum = 0\n",
    "    for i in range(1,n+1):\n",
    "        if n%i == 0:\n",
    "            sum = sum + i\n",
    "            # print(i,end=\" \")\n",
    "        i = i+1\n",
    "    return sum\n",
    "\n",
    "listOfFactors(6)"
   ]
  },
  {
   "cell_type": "code",
   "execution_count": 126,
   "metadata": {},
   "outputs": [
    {
     "data": {
      "text/plain": [
       "120"
      ]
     },
     "execution_count": 126,
     "metadata": {},
     "output_type": "execute_result"
    }
   ],
   "source": [
    "# Function to calculate the factorial of given number\n",
    "\n",
    "def factorial(n):\n",
    "    fact = 1\n",
    "    for i in range(2,n+1):\n",
    "        fact *= i\n",
    "    return fact\n",
    "\n",
    "factorial(5)"
   ]
  },
  {
   "cell_type": "code",
   "execution_count": 6,
   "metadata": {},
   "outputs": [],
   "source": [
    "# Function to check if given number is prime\n",
    "def isPrime(n):   \n",
    "    if n<=1:\n",
    "        print(\"not a prime number\")\n",
    "    if n<=3:\n",
    "        print(n+\"is a prime number\")  \n",
    "    value = 0\n",
    "    for value in range(5,value**2<n,6):\n",
    "        if (n%value==0 or n%value+1==0):\n",
    "                print(\"given number is not prime number\")\n",
    "        else:\n",
    "                print(\"Given number is a prime number\")\n",
    "    return\n",
    "          \n",
    "isPrime(5)        "
   ]
  },
  {
   "cell_type": "code",
   "execution_count": 67,
   "metadata": {},
   "outputs": [],
   "source": [
    "# Function to generate the average of first N prime numbers\n",
    "def avgNPrime(n):\n",
    "    primeCount = 0\n",
    "    sum = 0\n",
    "    seqCount = 2\n",
    "    while(primeCount<n):\n",
    "        if isPrime(seqCount):\n",
    "            primeCount+=1\n",
    "            sum+= seqCount\n",
    "        seqCount+=1\n",
    "    return sum/n    "
   ]
  },
  {
   "cell_type": "code",
   "execution_count": 1,
   "metadata": {},
   "outputs": [],
   "source": [
    "# Function to generate all perfect numbers in a given range\n",
    "\n",
    "def isPerfect(n):\n",
    "    if listOfFactors(n) == n:\n",
    "        return True\n",
    "    return False\n",
    "\n",
    "def generatePerfect(lb,ub):\n",
    "    for i in range(lb,ub+1):\n",
    "        if isPerfect(i):\n",
    "            print(i,end=\" \")\n",
    "    return        \n",
    "\n",
    "\n",
    "# generatePerfect(1,496)"
   ]
  },
  {
   "cell_type": "code",
   "execution_count": 149,
   "metadata": {},
   "outputs": [
    {
     "data": {
      "text/plain": [
       "730"
      ]
     },
     "execution_count": 149,
     "metadata": {},
     "output_type": "execute_result"
    }
   ],
   "source": [
    "# Calculate number of days in a given time period using leapYearlogic\n",
    "# For every year in the given time period, if the year is not a leap year -> add 365 to sum. If leap year, add 366 to sum\n",
    "def isLeapYear(year): # To check if a given year is a Leap Year\n",
    "    if year % 400 == 0 or (year % 100 != 0 and year % 4 == 0):\n",
    "        return True\n",
    "    return False\n",
    "\n",
    "def numberOfDays(startyear, endyear):\n",
    "    sum = 0\n",
    "    for year in range(startyear, endyear+1):\n",
    "        if isLeapYear(year):\n",
    "            sum = sum + 366\n",
    "        else:\n",
    "            sum = sum + 365\n",
    "    return sum\n",
    "\n",
    "#number of days in middle years of 2016 2019\n",
    "numberOfDays(2017, 2018)"
   ]
  },
  {
   "cell_type": "code",
   "execution_count": 150,
   "metadata": {},
   "outputs": [
    {
     "data": {
      "text/plain": [
       "1464"
      ]
     },
     "execution_count": 150,
     "metadata": {},
     "output_type": "execute_result"
    }
   ],
   "source": []
  },
  {
   "cell_type": "code",
   "execution_count": null,
   "metadata": {},
   "outputs": [],
   "source": [
    "def isLeapYear(year):\n",
    "    if year%400 == 0 or (year%100 == 0 and year%4 == 0):\n",
    "        return True\n",
    "    return False\n",
    "    "
   ]
  },
  {
   "cell_type": "code",
   "execution_count": 160,
   "metadata": {},
   "outputs": [],
   "source": [
    "# Function to calculate number of hours for a given period in the format(month1, year1, month2, year2)\n",
    "# numberOfHours(11, 1975, 3, 1999) -> 204504 or 205248\n",
    "# numberOfHours(5, 2019, 6, 2019) -> 1464\n",
    "# 2, 2016 , 6, 2019\n",
    "# \n",
    "#  [all days from feb 2016 to dec 2016, \n",
    "# .  all days for years between 2016+1 and 2019-1,\n",
    "#     all days from Jan to June 2019]\n",
    "#No of hours = 24 * No of days\n",
    "# 3 steps\n",
    "    #1. start month year to end of year - calculate no of days\n",
    "    #2. Calculate days for all years between start year and end year exclusive\n",
    "            # 2017, 2018 - 365 * no of years\n",
    "    #3. calculate days from Jan to end month year\n",
    "\n",
    "# Excluding Feb\n",
    "# First Six months - 1, 3, 4, 5, 6, 7 \n",
    "                    # All odd months have 31 days\n",
    "                    # All even months have 30 days\n",
    "# Last Six months - 8, 9, 10, 11, 12\n",
    "                    # All even months have 31 days\n",
    "                    # All odd months have 30 days\n",
    "        \n",
    "# 31 days - (month <= 7 and month % 2 != 0 and month != 2) || (month >= 8 and month %2 == 0)\n",
    "#                return 31\n",
    "#\n",
    "#            else\n",
    "#                return 30\n",
    "\n",
    "def numberOfDays(startyear,endyear):\n",
    "    sum = 0\n",
    "    for year in range(startyear,endyear+1):\n",
    "        if isLeapYear(year):\n",
    "            sum = sum + 366\n",
    "        else:\n",
    "            sum = sum + 365\n",
    "    return sum\n",
    "numberOfDays(2017,2018)\n",
    "\n",
    "def numberOfDaysMonth(month,year):\n",
    "    if month == 2:\n",
    "        if isLeapYear(year):\n",
    "            return 29\n",
    "        return 28\n",
    "    elif (month <= 7 and month % 2!=0) or (month >= 8 and month % 2 == 0):\n",
    "        return 31\n",
    "    else:\n",
    "        return 30\n",
    "    \n",
    "\n",
    "def daysInStartYear(startmonth,startyear):\n",
    "    days = 0\n",
    "    for month in range(startmonth,13):\n",
    "        days += numberOfDaysMonth(month,startyear)\n",
    "    return days\n",
    "\n",
    "def daysInEndYear(endmonth,endyear):\n",
    "    days = 0\n",
    "    for month in range(1,endmonth+1):\n",
    "        days += numberOfDaysMonth(month,endyear)\n",
    "    return days \n",
    "def numberOfHours(startmonth,startyear,endmonth,endyear):\n",
    "    days = 0\n",
    "    if startyear != endyear:\n",
    "        days += daysInStartYear(startmonth,startyear)\n",
    "        days += daysInEndYear(endmonth,endyear)\n",
    "        if endyear - startyear == 2: # 2019 - 2017\n",
    "            days += numberOfDays(startyear+1,startyear+1)\n",
    "        elif endyear - startyear > 2:\n",
    "            days += numberOfDays(startyear+1,endyear-1)\n",
    "        else:\n",
    "            for month in range(startmonth,endmonth+1):\n",
    "                days += numberOfDaysMonth(month,startyear)\n",
    "        return 24 * days  \n",
    "    \n",
    "numberOfHours(6,2018,7,2018)\n",
    "    "
   ]
  },
  {
   "cell_type": "code",
   "execution_count": null,
   "metadata": {},
   "outputs": [],
   "source": [
    "\n",
    "\n",
    "\n",
    "\n",
    "\n",
    "\n",
    "\n",
    "\n"
   ]
  },
  {
   "cell_type": "code",
   "execution_count": null,
   "metadata": {},
   "outputs": [],
   "source": []
  }
 ],
 "metadata": {
  "kernelspec": {
   "display_name": "Python 3",
   "language": "python",
   "name": "python3"
  },
  "language_info": {
   "codemirror_mode": {
    "name": "ipython",
    "version": 3
   },
   "file_extension": ".py",
   "mimetype": "text/x-python",
   "name": "python",
   "nbconvert_exporter": "python",
   "pygments_lexer": "ipython3",
   "version": "3.7.3"
  }
 },
 "nbformat": 4,
 "nbformat_minor": 2
}
