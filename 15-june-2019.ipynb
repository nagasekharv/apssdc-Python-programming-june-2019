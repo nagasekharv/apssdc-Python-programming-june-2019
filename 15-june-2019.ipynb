{
 "cells": [
  {
   "cell_type": "markdown",
   "metadata": {},
   "source": [
    "## Problem set\n"
   ]
  },
  {
   "cell_type": "code",
   "execution_count": 1,
   "metadata": {},
   "outputs": [
    {
     "name": "stdout",
     "output_type": "stream",
     "text": [
      "1\n"
     ]
    }
   ],
   "source": [
    "# Function to find the nearest value to zero\n",
    "li = [-1,-2,5,12]\n",
    "li.sort()\n",
    "li\n",
    "pl = []\n",
    "for i in li:\n",
    "    pl.append(abs(i))\n",
    "\n",
    "pl.sort()\n",
    "if pl[0] in li:\n",
    "    pl.append(abs(i))\n",
    "\n",
    "pl.sort()\n",
    "if pl[0] in li:\n",
    "    print(pl[0])\n",
    "else:\n",
    "    print(pl[0])"
   ]
  },
  {
   "cell_type": "code",
   "execution_count": 2,
   "metadata": {},
   "outputs": [
    {
     "data": {
      "text/plain": [
       "4"
      ]
     },
     "execution_count": 2,
     "metadata": {},
     "output_type": "execute_result"
    }
   ],
   "source": [
    "# you r given 3 numbers a,b and c\n",
    "# write a program to find the largest number which is less than or equal to c and leaves remainder b when divided by a\n",
    "\n",
    "# Steps\n",
    "# 2 \n",
    "# 3 2 9\n",
    "\n",
    "# 9 % 3 == 0\n",
    "# 8 % 3 == 2\n",
    "\n",
    "# 1 2 4\n",
    "\n",
    "# 4 % 1 == 0\n",
    "# 3 % 1 == 0\n",
    "\n",
    "\n",
    "\n",
    "def cal(a,b,c):\n",
    "    for i in range(c,a-1,-1):\n",
    "        return i\n",
    "    return -1\n",
    "\n",
    "\n",
    "cal(1,2,4)"
   ]
  },
  {
   "cell_type": "code",
   "execution_count": 14,
   "metadata": {},
   "outputs": [],
   "source": [
    "def toggleString():\n",
    "    str = \"AEcReeW\"\n",
    "    li = []\n",
    "    for i in range(0,len(str)):\n",
    "        if str[i].islower():\n",
    "            li.append(str[i].upper())\n",
    "        elif str[i].isupper():\n",
    "            li.append(str[i].lower())\n",
    "        print(li)\n",
    "    return li"
   ]
  },
  {
   "cell_type": "code",
   "execution_count": 16,
   "metadata": {},
   "outputs": [
    {
     "data": {
      "text/plain": [
       "'D'"
      ]
     },
     "execution_count": 16,
     "metadata": {},
     "output_type": "execute_result"
    }
   ],
   "source": [
    "str = \"WdeSEf\"\n",
    "asd = str[1].upper()\n",
    "asd"
   ]
  },
  {
   "cell_type": "code",
   "execution_count": 18,
   "metadata": {},
   "outputs": [
    {
     "name": "stdout",
     "output_type": "stream",
     "text": [
      "1 A\n",
      "2 P\n",
      "3 S\n",
      "4 S\n",
      "5 D\n",
      "6 C\n"
     ]
    }
   ],
   "source": [
    "name = \"APSSDC\"\n",
    "i =1\n",
    "for ch in name:\n",
    "    print(i,ch)\n",
    "    i+=1"
   ]
  },
  {
   "cell_type": "code",
   "execution_count": 19,
   "metadata": {},
   "outputs": [
    {
     "name": "stdout",
     "output_type": "stream",
     "text": [
      "ASEdeSeED\n",
      "aseDEsEed\n"
     ]
    }
   ],
   "source": [
    "def toggleString(s):\n",
    "    li = []\n",
    "    string = \"\"\n",
    "    for i in range(0,len(s)):\n",
    "        if s[i].islower():\n",
    "            string = string + s[i].upper()\n",
    "        else:\n",
    "            string = string + s[i].lower()\n",
    "    return string\n",
    "    \n",
    "    \n",
    "    \n",
    "str = input()\n",
    "# li = str.split()\n",
    "print(toggleString(str))"
   ]
  },
  {
   "cell_type": "code",
   "execution_count": 24,
   "metadata": {},
   "outputs": [
    {
     "name": "stdout",
     "output_type": "stream",
     "text": [
      "madam\n",
      "NO\n",
      "\n"
     ]
    }
   ],
   "source": [
    "# You have been given a String S. You need to find and print whether this string is a palindrome or not. If yes, print \"YES\" (without quotes), else print \"NO\" (without quotes).\n",
    "\n",
    "# Input Format\n",
    "# The first and only line of input contains the String S. The String shall consist of lowercase English alphabets only.\n",
    "\n",
    "# Output Format\n",
    "# Print the required answer on a single line.\n",
    "\n",
    "# Constraints \n",
    "\n",
    "# Note\n",
    "# String S consists of lowercase English Alphabets only.\n",
    "def palindrome(s):\n",
    "    rev = \"\"\n",
    "    for ch in range(len(s),0):\n",
    "        rev = rev + ch\n",
    "    if s == rev:\n",
    "        print(\"YES\")\n",
    "    else:\n",
    "        print(\"NO\")\n",
    "    print(rev)    \n",
    "    return    \n",
    "\n",
    "string = input()\n",
    "palindrome(string)"
   ]
  },
  {
   "cell_type": "code",
   "execution_count": 28,
   "metadata": {},
   "outputs": [
    {
     "data": {
      "text/plain": [
       "'afdsa'"
      ]
     },
     "execution_count": 28,
     "metadata": {},
     "output_type": "execute_result"
    }
   ],
   "source": [
    "str = \"asdfa\"\n",
    "str[::-1]\n"
   ]
  },
  {
   "cell_type": "code",
   "execution_count": 30,
   "metadata": {},
   "outputs": [
    {
     "name": "stdout",
     "output_type": "stream",
     "text": [
      "h\n",
      "eh\n",
      "leh\n",
      "lleh\n",
      "olleh\n"
     ]
    },
    {
     "data": {
      "text/plain": [
       "'olleh'"
      ]
     },
     "execution_count": 30,
     "metadata": {},
     "output_type": "execute_result"
    }
   ],
   "source": [
    "def reverse(s): \n",
    "  str = \"\" \n",
    "  for i in s: \n",
    "    str = i + str\n",
    "    print(str)\n",
    "  return str\n",
    "\n",
    "\n",
    "reverse(\"hello\")"
   ]
  },
  {
   "cell_type": "code",
   "execution_count": 37,
   "metadata": {},
   "outputs": [
    {
     "name": "stdout",
     "output_type": "stream",
     "text": [
      "NO\n",
      "ma dam mad am\n"
     ]
    }
   ],
   "source": [
    "# Function to find the given string is palindrome\n",
    "def palindrome(s):\n",
    "    a = \"\"\n",
    "    for i in s:\n",
    "        a = i + a\n",
    "    if a == s:\n",
    "        print(\"YES\")\n",
    "    else:\n",
    "        print(\"NO\")\n",
    "    print(a,s)    \n",
    "palindrome(\"mad am\")        "
   ]
  },
  {
   "cell_type": "code",
   "execution_count": 45,
   "metadata": {},
   "outputs": [
    {
     "name": "stdout",
     "output_type": "stream",
     "text": [
      "true\n"
     ]
    }
   ],
   "source": [
    "def prime(n):\n",
    "    count = 0\n",
    "    for i in range(1,n+1):\n",
    "        if n%i == 0:\n",
    "            count = count + 1\n",
    "    if count == 2:\n",
    "        print(\"true\")\n",
    "    else:\n",
    "        print(\"false\")\n",
    "        \n",
    "prime(3)        "
   ]
  },
  {
   "cell_type": "code",
   "execution_count": 9,
   "metadata": {},
   "outputs": [
    {
     "name": "stdout",
     "output_type": "stream",
     "text": [
      "9\n"
     ]
    }
   ],
   "source": [
    "def primeNumber(n):\n",
    "    count = 0\n",
    "    for i in range(1,n+1):\n",
    "        if(n%i) == 0:\n",
    "            count = count + 1\n",
    "        else: \n",
    "            count = count\n",
    "        if count == 2:\n",
    "            return n\n",
    "        else:\n",
    "            return \n",
    "        \n",
    "def numOfPrime(r):\n",
    "    for i in range(1,r+1):\n",
    "        if primeNumber(i):\n",
    "            print(i,end=\" \")\n",
    "        \n",
    "                \n",
    "\n",
    "num = int(input())\n",
    "asd = \"\"\n",
    "num = int(num)\n",
    "    \n",
    "numOfPrime(num)\n",
    "                "
   ]
  },
  {
   "cell_type": "code",
   "execution_count": 49,
   "metadata": {},
   "outputs": [
    {
     "name": "stdout",
     "output_type": "stream",
     "text": [
      "YES\n"
     ]
    }
   ],
   "source": [
    "def twoStrings(s):\n",
    "    s = s.split()\n",
    "    s1 = s[0]\n",
    "    s2 = s[1]\n",
    "    if sorted(s1) == sorted(s2):\n",
    "        print(\"YES\")\n",
    "    else:\n",
    "        print(\"NO\")\n",
    "        \n",
    "\n",
    "n = int(input())\n",
    "for i in range(0,n):\n",
    "    s = input()\n",
    "    twoStrings(s)\n",
    "    \n",
    "    "
   ]
  },
  {
   "cell_type": "code",
   "execution_count": 18,
   "metadata": {},
   "outputs": [
    {
     "name": "stdout",
     "output_type": "stream",
     "text": [
      "9\n",
      "2 3 5 7 "
     ]
    }
   ],
   "source": [
    "# Function for finding prime number\n",
    "def isprime(n):\n",
    "    count = 1\n",
    "    for i in range(2,n):\n",
    "        if n%i == 0:\n",
    "            count += 1\n",
    "    if count == 1:\n",
    "        return True\n",
    "    else:\n",
    "        return False\n",
    "    \n",
    "def numOfPrime(r):\n",
    "    j = 0\n",
    "    print(\"2\", end = \" \")\n",
    "    for j in range(3,r+1):\n",
    "        if isprime(j):\n",
    "            print(j,end=\" \")\n",
    "            \n",
    "k = int(input())            \n",
    "numOfPrime(k)"
   ]
  },
  {
   "cell_type": "code",
   "execution_count": null,
   "metadata": {},
   "outputs": [],
   "source": [
    "# Duration\n",
    "def minutesDiff(s):\n",
    "    \"\"\"for i in range(1,now+1):\n",
    "        time = input().split()\"\"\"\n",
    "    s = s.split()\n",
    "    sh = int(s[0])\n",
    "    sm = int(s[1])\n",
    "    eh = int(s[2])\n",
    "    em = int(s[3])\n",
    "    startminutes = (sh * 60) + sm\n",
    "    endminutes = (eh * 60) + em\n",
    "    return endminutes - startminutes\n",
    "\n",
    "def outputTimeFormat(minutes):        \n",
    "    hours = minutes//60\n",
    "    minutes = minutes % 60\n",
    "    return hours,minutes\n",
    "    \n",
    "\n",
    "now = int(input())\n",
    "for i in range(0,now):\n",
    "    i = input()\n",
    "    minutes = minutesDiff(i)\n",
    "    rs1, rs2 = outputTimeFormat(minutes)\n",
    "    print(rs1, rs2)\n"
   ]
  },
  {
   "cell_type": "code",
   "execution_count": null,
   "metadata": {},
   "outputs": [],
   "source": [
    "# Play with numbers"
   ]
  }
 ],
 "metadata": {
  "kernelspec": {
   "display_name": "Python 3",
   "language": "python",
   "name": "python3"
  },
  "language_info": {
   "codemirror_mode": {
    "name": "ipython",
    "version": 3
   },
   "file_extension": ".py",
   "mimetype": "text/x-python",
   "name": "python",
   "nbconvert_exporter": "python",
   "pygments_lexer": "ipython3",
   "version": "3.7.3"
  }
 },
 "nbformat": 4,
 "nbformat_minor": 2
}
