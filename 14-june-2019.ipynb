{
 "cells": [
  {
   "cell_type": "markdown",
   "metadata": {},
   "source": [
    "###  Problem Solving and Programming in Data Structures\n",
    "\n",
    "#### Date 14-june-2019\n",
    "\n",
    "\n",
    "#### Day Objectivies\n",
    "- Python Data Structures\n",
    "    - Lists\n",
    "    - Tuples\n",
    "    - Dictionaries\n",
    "- Basic problem set on Data Structures\n",
    "- Advanced Problem set\n",
    "- Packages and Modules in python"
   ]
  },
  {
   "cell_type": "code",
   "execution_count": null,
   "metadata": {},
   "outputs": [],
   "source": []
  },
  {
   "cell_type": "markdown",
   "metadata": {},
   "source": [
    "## Python Data Structures\n",
    "\n",
    "### Lists"
   ]
  },
  {
   "cell_type": "code",
   "execution_count": 2,
   "metadata": {},
   "outputs": [
    {
     "data": {
      "text/plain": [
       "5109"
      ]
     },
     "execution_count": 2,
     "metadata": {},
     "output_type": "execute_result"
    }
   ],
   "source": [
    "# [] is use to represent the list in python\n",
    "li = [123,978,654,232,345,332] # dont need to mention data type\n",
    "li # Access the entire list\n",
    "li[1] # returns the value in index posotion 1  Note: index starts from 0\n",
    "li[1:] # return values from index position 1 to the end of the list\n",
    "li[:-1] #  o/p -> [123,978]\n",
    "li[::-1] # reverse the list -> original list is not changed\n",
    "li = li[::-1] # reversed the list and also reversed list is assigned to original list\n",
    "li # [654, 978, 123]\n",
    "li = li[::-1] # again the list is reversed and assigned to its previous state\n",
    "\n",
    "li[::2] # Accessing even index elements\n",
    "li[1::2] # Accessing odd index elements\n",
    "\n",
    "# Data functions Manipulation\n",
    "# Lists can be accessed, manipulated in two ways\n",
    "    # Direct Referencing - [index]\n",
    "    # Indirect Referencing - through\n",
    "li.append(576) # Adding an element to end of list\n",
    "# o/p [123, 978, 654, 232, 345, 332, 576]\n",
    "li.insert(1,926) # Adding an element at a particular position\n",
    "# o/p [123, 926, 978, 654, 232, 345, 332, 576]\n",
    "li.sort() # sort elements in ascending order\n",
    "# o/p [123, 232, 332, 345, 576, 654, 926, 978]\n",
    "\n",
    "li.pop() # remove the last element in list and returns the value\n",
    "li.pop(1) # Remove the element at a particular index\n",
    "\n",
    "# Merging list 2 into list 1\n",
    "li2 = [98,321,356,657,721]\n",
    "li.extend(li2) \n",
    "# sum(li) # return the sum of the values inthe list li\n",
    "# sum(li2)    \n",
    "max(li) # return the max value from the list\n",
    "len(li) # returns the length of the list\n",
    "min(li) # return the min value from the list\n",
    "\n",
    "\n",
    "li # Average of list elements\n",
    "\n",
    "sum(li)"
   ]
  },
  {
   "cell_type": "code",
   "execution_count": 3,
   "metadata": {},
   "outputs": [
    {
     "data": {
      "text/plain": [
       "55.333333333333336"
      ]
     },
     "execution_count": 3,
     "metadata": {},
     "output_type": "execute_result"
    }
   ],
   "source": [
    "l = [12,23,43,56,51,87]\n",
    "sum(l[1::2])/len(l[1::2])\n"
   ]
  },
  {
   "cell_type": "code",
   "execution_count": 3,
   "metadata": {},
   "outputs": [
    {
     "data": {
      "text/plain": [
       "45"
      ]
     },
     "execution_count": 3,
     "metadata": {},
     "output_type": "execute_result"
    }
   ],
   "source": [
    "# Function to identify the second largest element in a list of unique values\n",
    "    # sort the data and select the second last element\n",
    "    # sort the data in reverse order,and select the second element\n",
    "    # Remove the max element and then get the next\n",
    "li = [1,3,4,45,23,98]\n",
    "\n",
    "def secondLargest(li):\n",
    "    li.sort()\n",
    "    return li[-2] # sort in ascending order\n",
    "\n",
    "    \n",
    "secondLargest(li)    "
   ]
  },
  {
   "cell_type": "code",
   "execution_count": 4,
   "metadata": {},
   "outputs": [
    {
     "data": {
      "text/plain": [
       "23"
      ]
     },
     "execution_count": 4,
     "metadata": {},
     "output_type": "execute_result"
    }
   ],
   "source": [
    "# Function that returns the nth latgest\n",
    "def genericLargest(li,n):\n",
    "    li.sort()\n",
    "    return li[-n] \n",
    "genericLargest(li,3) \n",
    "\n",
    "# Task :\n",
    "# Removing duplicate data then return nth largest ?"
   ]
  },
  {
   "cell_type": "code",
   "execution_count": 22,
   "metadata": {},
   "outputs": [
    {
     "data": {
      "text/plain": [
       "4"
      ]
     },
     "execution_count": 22,
     "metadata": {},
     "output_type": "execute_result"
    }
   ],
   "source": [
    "# Function to search for data in list and return the index of the key.If not found return -1\n",
    "li = [1,3,4,45,23,98]\n",
    "def linearSearch(li,key): # key is the value in the list\n",
    "    for i in li:  # for i in range(0,len(li))\n",
    "        if li[i]==key:\n",
    "            return i+1 \n",
    "    return -1    \n",
    "    \n",
    "\n",
    "def linearSearch2(li,key):\n",
    "    for element in li:\n",
    "        if element == key:\n",
    "            return li.index(element)\n",
    "    return -1\n",
    "\n",
    "\n",
    "def linearSearch3(li,key):\n",
    "    if key in li:\n",
    "        return li.index(key)\n",
    "    return -1\n",
    "\n",
    "\n",
    "linearSearch3(li,23)            "
   ]
  },
  {
   "cell_type": "code",
   "execution_count": 26,
   "metadata": {},
   "outputs": [
    {
     "data": {
      "text/plain": [
       "2"
      ]
     },
     "execution_count": 26,
     "metadata": {},
     "output_type": "execute_result"
    }
   ],
   "source": [
    "# Function to count the occurances of a character\n",
    "# \"python programming\", m -> 2\n",
    "# charcater maching is case sensitive\n",
    "def noOfOccurences(li,char):\n",
    "    count = 0\n",
    "    for i in li:\n",
    "        if i == char:\n",
    "            count = count + 1\n",
    "    return count \n",
    "\n",
    "\n",
    "def countCharOccurances2(s,c):\n",
    "    return s.count(c)\n",
    "\n",
    "\n",
    "noOfOccurances(\"python programming\",'m')\n"
   ]
  },
  {
   "cell_type": "code",
   "execution_count": 1,
   "metadata": {},
   "outputs": [],
   "source": [
    "# Function to count the occurrences of a substring in a given string\n",
    "\n",
    "def substringCount(s,sub):\n",
    "    count = 0\n",
    "    for i in s:\n",
    "        if s[i] == sub[i]:\n",
    "            for j in sub:\n",
    "                if s[i] == sub[j]:\n",
    "                    print()\n",
    "            count = count + 1\n",
    "        return count\n",
    "     \n",
    "#substringCount(\"pythonpython\",\"pyt\")        "
   ]
  },
  {
   "cell_type": "code",
   "execution_count": 4,
   "metadata": {},
   "outputs": [
    {
     "data": {
      "text/plain": [
       "[1, 2, 3, 4, 5, 6]"
      ]
     },
     "execution_count": 4,
     "metadata": {},
     "output_type": "execute_result"
    }
   ],
   "source": [
    "s=\"1 2 3 4 5 6\"\n",
    "li = s.split()\n",
    "numberlist = []\n",
    "for i in li:\n",
    "    numberlist.append(int(i))\n",
    "numberlist\n",
    "\n"
   ]
  },
  {
   "cell_type": "code",
   "execution_count": 2,
   "metadata": {},
   "outputs": [
    {
     "ename": "SyntaxError",
     "evalue": "invalid syntax (<ipython-input-2-45cafe3b893c>, line 3)",
     "output_type": "error",
     "traceback": [
      "\u001b[1;36m  File \u001b[1;32m\"<ipython-input-2-45cafe3b893c>\"\u001b[1;36m, line \u001b[1;32m3\u001b[0m\n\u001b[1;33m    Def nearTOZero():\u001b[0m\n\u001b[1;37m                 ^\u001b[0m\n\u001b[1;31mSyntaxError\u001b[0m\u001b[1;31m:\u001b[0m invalid syntax\n"
     ]
    }
   ],
   "source": [
    "# Function to return number the least number to 0,\n",
    "    # -1,1,2 =>\n",
    "Def nearTOZero():\n",
    "    \n",
    "    "
   ]
  },
  {
   "cell_type": "code",
   "execution_count": null,
   "metadata": {},
   "outputs": [],
   "source": []
  },
  {
   "cell_type": "code",
   "execution_count": null,
   "metadata": {},
   "outputs": [],
   "source": []
  },
  {
   "cell_type": "code",
   "execution_count": null,
   "metadata": {},
   "outputs": [],
   "source": []
  },
  {
   "cell_type": "code",
   "execution_count": null,
   "metadata": {},
   "outputs": [],
   "source": []
  },
  {
   "cell_type": "code",
   "execution_count": 57,
   "metadata": {},
   "outputs": [
    {
     "name": "stdout",
     "output_type": "stream",
     "text": [
      "2 * 1 = 2\n",
      "2 * 2 = 4\n",
      "2 * 3 = 6\n",
      "2 * 4 = 8\n",
      "2 * 5 = 10\n",
      "2 * 6 = 12\n",
      "2 * 7 = 14\n",
      "2 * 8 = 16\n",
      "2 * 9 = 18\n",
      "2 * 10 = 20\n"
     ]
    }
   ],
   "source": [
    "def mathTable(n,min,max):\n",
    "    for i in range(min,max+1):\n",
    "        print(n,\"*\",i,'=',n*i) \n",
    "        \n",
    "mathTable(2,1,10)        "
   ]
  },
  {
   "cell_type": "code",
   "execution_count": null,
   "metadata": {},
   "outputs": [],
   "source": []
  }
 ],
 "metadata": {
  "kernelspec": {
   "display_name": "Python 3",
   "language": "python",
   "name": "python3"
  },
  "language_info": {
   "codemirror_mode": {
    "name": "ipython",
    "version": 3
   },
   "file_extension": ".py",
   "mimetype": "text/x-python",
   "name": "python",
   "nbconvert_exporter": "python",
   "pygments_lexer": "ipython3",
   "version": "3.7.3"
  }
 },
 "nbformat": 4,
 "nbformat_minor": 2
}
